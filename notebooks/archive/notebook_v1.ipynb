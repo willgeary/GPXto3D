{
 "cells": [
  {
   "cell_type": "markdown",
   "metadata": {},
   "source": [
    "# GPX to CZML\n",
    "\n",
    "Converting GPX data from Strava to CZML format for visualization CesiumJS."
   ]
  },
  {
   "cell_type": "markdown",
   "metadata": {},
   "source": [
    "### Import Libraries"
   ]
  },
  {
   "cell_type": "code",
   "execution_count": 5,
   "metadata": {
    "collapsed": true
   },
   "outputs": [],
   "source": [
    "import pandas as pd\n",
    "import numpy as np\n",
    "import gpxpy\n",
    "import json"
   ]
  },
  {
   "cell_type": "markdown",
   "metadata": {},
   "source": [
    "### Read GPX File"
   ]
  },
  {
   "cell_type": "code",
   "execution_count": 6,
   "metadata": {
    "collapsed": true
   },
   "outputs": [],
   "source": [
    "gpx_file = open('../data/Woodstock_NY.gpx', 'r')\n",
    "gpx = gpxpy.parse(gpx_file)"
   ]
  },
  {
   "cell_type": "markdown",
   "metadata": {},
   "source": [
    "### Extract Locations, Elevations and Timestamps from GPX file"
   ]
  },
  {
   "cell_type": "code",
   "execution_count": 7,
   "metadata": {
    "collapsed": false
   },
   "outputs": [],
   "source": [
    "## See primer on reading GPX data in python here: http://andykee.com/visualizing-strava-tracks-with-python.html\n",
    "\n",
    "def parse_gpx(gpx_input_file):\n",
    "    \n",
    "    lats = []\n",
    "    lons = []\n",
    "    elevations = []\n",
    "    timestamps = []\n",
    "\n",
    "    for track in gpx.tracks:\n",
    "        for segment in track.segments:\n",
    "            for point in segment.points:\n",
    "                lats.append(point.latitude)\n",
    "                lons.append(point.longitude)\n",
    "                elevations.append(point.elevation)\n",
    "                timestamps.append(point.time)\n",
    "                   \n",
    "    output = pd.DataFrame()\n",
    "    output['latitude'] = lats\n",
    "    output['longitude'] = lons\n",
    "    output['elevation'] = elevations\n",
    "    output['starttime'] = timestamps\n",
    "    output['stoptime'] = output['starttime'].shift(-1).fillna(method='ffill')\n",
    "    output['duration'] = (output['stoptime'] - output['starttime']) / np.timedelta64(1, 's') ## duration to seconds\n",
    "    \n",
    "    return output"
   ]
  },
  {
   "cell_type": "markdown",
   "metadata": {},
   "source": [
    "Here's what the GPX data looks like after we parse it:"
   ]
  },
  {
   "cell_type": "code",
   "execution_count": 8,
   "metadata": {
    "collapsed": false
   },
   "outputs": [
    {
     "data": {
      "text/html": [
       "<div>\n",
       "<table border=\"1\" class=\"dataframe\">\n",
       "  <thead>\n",
       "    <tr style=\"text-align: right;\">\n",
       "      <th></th>\n",
       "      <th>latitude</th>\n",
       "      <th>longitude</th>\n",
       "      <th>elevation</th>\n",
       "      <th>starttime</th>\n",
       "      <th>stoptime</th>\n",
       "      <th>duration</th>\n",
       "    </tr>\n",
       "  </thead>\n",
       "  <tbody>\n",
       "    <tr>\n",
       "      <th>0</th>\n",
       "      <td>42.029884</td>\n",
       "      <td>-74.107225</td>\n",
       "      <td>162.0</td>\n",
       "      <td>2017-06-11 19:51:59</td>\n",
       "      <td>2017-06-11 19:52:03</td>\n",
       "      <td>4.0</td>\n",
       "    </tr>\n",
       "    <tr>\n",
       "      <th>1</th>\n",
       "      <td>42.029855</td>\n",
       "      <td>-74.107269</td>\n",
       "      <td>163.0</td>\n",
       "      <td>2017-06-11 19:52:03</td>\n",
       "      <td>2017-06-11 19:52:05</td>\n",
       "      <td>2.0</td>\n",
       "    </tr>\n",
       "    <tr>\n",
       "      <th>2</th>\n",
       "      <td>42.029824</td>\n",
       "      <td>-74.107292</td>\n",
       "      <td>163.4</td>\n",
       "      <td>2017-06-11 19:52:05</td>\n",
       "      <td>2017-06-11 19:52:12</td>\n",
       "      <td>7.0</td>\n",
       "    </tr>\n",
       "    <tr>\n",
       "      <th>3</th>\n",
       "      <td>42.029788</td>\n",
       "      <td>-74.107308</td>\n",
       "      <td>163.4</td>\n",
       "      <td>2017-06-11 19:52:12</td>\n",
       "      <td>2017-06-11 19:52:20</td>\n",
       "      <td>8.0</td>\n",
       "    </tr>\n",
       "    <tr>\n",
       "      <th>4</th>\n",
       "      <td>42.029826</td>\n",
       "      <td>-74.107312</td>\n",
       "      <td>163.4</td>\n",
       "      <td>2017-06-11 19:52:20</td>\n",
       "      <td>2017-06-11 19:52:22</td>\n",
       "      <td>2.0</td>\n",
       "    </tr>\n",
       "  </tbody>\n",
       "</table>\n",
       "</div>"
      ],
      "text/plain": [
       "    latitude  longitude  elevation           starttime            stoptime  \\\n",
       "0  42.029884 -74.107225      162.0 2017-06-11 19:51:59 2017-06-11 19:52:03   \n",
       "1  42.029855 -74.107269      163.0 2017-06-11 19:52:03 2017-06-11 19:52:05   \n",
       "2  42.029824 -74.107292      163.4 2017-06-11 19:52:05 2017-06-11 19:52:12   \n",
       "3  42.029788 -74.107308      163.4 2017-06-11 19:52:12 2017-06-11 19:52:20   \n",
       "4  42.029826 -74.107312      163.4 2017-06-11 19:52:20 2017-06-11 19:52:22   \n",
       "\n",
       "   duration  \n",
       "0       4.0  \n",
       "1       2.0  \n",
       "2       7.0  \n",
       "3       8.0  \n",
       "4       2.0  "
      ]
     },
     "execution_count": 8,
     "metadata": {},
     "output_type": "execute_result"
    }
   ],
   "source": [
    "df = parse_gpx(gpx)\n",
    "df.head()"
   ]
  },
  {
   "cell_type": "markdown",
   "metadata": {},
   "source": [
    "### Generate CZML Path"
   ]
  },
  {
   "cell_type": "code",
   "execution_count": 28,
   "metadata": {
    "collapsed": false
   },
   "outputs": [],
   "source": [
    "def czml_path(df_input, relative_elevation = False):\n",
    "    results = []\n",
    "    \n",
    "    clock = 0\n",
    "    \n",
    "    for i in df_input.index:\n",
    "        results.append(clock)\n",
    "        results.append(df_input.longitude.ix[i])\n",
    "        results.append(df_input.latitude.ix[i])\n",
    "        \n",
    "        if relative_elevation == True:\n",
    "            results.append(30) # for use with point = {\"heightReference\" : \"RELATIVE_TO_GROUND\"}\n",
    "        else:\n",
    "            results.append(df_input.elevation.ix[i])\n",
    "        \n",
    "        duration = df_input.duration.ix[(i)]\n",
    "        clock += duration\n",
    "        \n",
    "    return results"
   ]
  },
  {
   "cell_type": "markdown",
   "metadata": {},
   "source": [
    "# Animate Point with Trailing Path"
   ]
  },
  {
   "cell_type": "code",
   "execution_count": 51,
   "metadata": {
    "collapsed": false
   },
   "outputs": [],
   "source": [
    "def moving_point_with_path(df_input, time_mult = 100, path_type=\"outline\"):\n",
    "    \n",
    "    czml_output = []\n",
    "\n",
    "    # Required global variables\n",
    "    global_id = \"document\"\n",
    "    global_name = \"Visualizing GPX data from Strava\"\n",
    "    global_version = \"1.0\"\n",
    "\n",
    "    # Optional global variables\n",
    "    global_author = \"Will Geary\"\n",
    "    global_starttime = str(min(df_input['starttime'])).replace(\" \", \"T\").replace(\".000\", \"Z\")\n",
    "    global_stoptime = str(max(df_input['stoptime'])).replace(\" \", \"T\").replace(\".000\", \"Z\")\n",
    "    global_availability = global_starttime + \"/\" + global_stoptime    \n",
    "    \n",
    "    # Create first element with global variables\n",
    "    global_element = {\n",
    "        \"id\" : global_id,\n",
    "        \"name\" : global_name,\n",
    "        \"version\" : global_version,\n",
    "        \"author\": global_author,\n",
    "        \"clock\": {\n",
    "            \"interval\": global_availability,\n",
    "            \"currentTime\": global_starttime,\n",
    "            \"multiplier\": time_mult\n",
    "        }\n",
    "    }\n",
    "    \n",
    "    # Add first element to output\n",
    "    czml_output.append(global_element)\n",
    "    \n",
    "    ### PATH ###\n",
    "    \n",
    "    # Child variable\n",
    "    child_id = \"path\"\n",
    "    child_starttime = str(min(df_input['starttime'])).replace(\" \", \"T\").replace(\".000\", \"Z\")\n",
    "    child_stoptime = str(max(df_input['starttime'])).replace(\" \", \"T\").replace(\".000\", \"Z\")\n",
    "    child_availability = child_starttime + \"/\" + child_stoptime\n",
    "    \n",
    "    if path_type == \"outline\":\n",
    "        child_element = {\n",
    "                \"id\": child_id,\n",
    "\n",
    "                \"availability\": child_availability,\n",
    "\n",
    "                \"position\": {\n",
    "                    \"epoch\": child_starttime,\n",
    "                    \"cartographicDegrees\": czml_path(df, relative_elevation=False)\n",
    "                },\n",
    "\n",
    "                \"path\" : {\n",
    "                    \"material\" : {\n",
    "                        \"polylineOutline\" : {\n",
    "                            \"color\" : {\n",
    "                                \"rgba\" : [255,255,255, 200]\n",
    "                            },\n",
    "                            \"outlineColor\" : {\n",
    "                                \"rgba\" : [0,173,253, 200]\n",
    "                            },\n",
    "                            \"outlineWidth\" : 5\n",
    "                        }\n",
    "                    },\n",
    "                    \"width\" : 6,\n",
    "                    \"leadTime\" : 0,\n",
    "                    \"trailTime\" : 100000,\n",
    "                    \"resolution\" : 5\n",
    "                }\n",
    "            }\n",
    "        \n",
    "    elif path_type == \"glow\":\n",
    "        child_element = {\n",
    "            \"id\": child_id,\n",
    "\n",
    "            \"availability\": child_availability,\n",
    "\n",
    "            \"position\": {\n",
    "                \"epoch\": child_starttime,\n",
    "                \"cartographicDegrees\": czml_path(df, relative_elevation=False)\n",
    "            },\n",
    "\n",
    "            \"path\" : {\n",
    "                \"material\" : {\n",
    "                    \"polylineGlow\" : {\n",
    "                        \"color\" : {\n",
    "                            \"rgba\" : [0,173,253, 200]\n",
    "                        },\n",
    "                        \"glowPower\" : 0.1\n",
    "                    }\n",
    "                },\n",
    "                \"width\" : 6,\n",
    "                \"leadTime\" : 0,\n",
    "                \"trailTime\" : 100000,\n",
    "                \"resolution\" : 5\n",
    "            }\n",
    "        }\n",
    "        \n",
    "    elif path_type == \"dash\":\n",
    "        child_element = {\n",
    "            \"id\": child_id,\n",
    "\n",
    "            \"availability\": child_availability,\n",
    "\n",
    "            \"position\": {\n",
    "                \"epoch\": child_starttime,\n",
    "                \"cartographicDegrees\": czml_path(df, relative_elevation=False)\n",
    "            },\n",
    "\n",
    "            \"path\" : {\n",
    "                \"material\" : {\n",
    "                    \"polylineDash\" : {\n",
    "                        \"color\" : {\n",
    "                            \"rgba\" : [0,173,253, 200]\n",
    "                        }\n",
    "                    }\n",
    "                },\n",
    "                \"width\" : 6,\n",
    "                \"leadTime\" : 0,\n",
    "                \"trailTime\" : 100000,\n",
    "                \"resolution\" : 5\n",
    "            }\n",
    "        }\n",
    "\n",
    "    czml_output.append(child_element)\n",
    "    \n",
    "    \n",
    "    ### POINT ###\n",
    "    \n",
    "    # Child variable\n",
    "    child_id = \"Point\"\n",
    "    child_starttime = str(min(df_input['starttime'])).replace(\" \", \"T\").replace(\".000\", \"Z\")\n",
    "    child_stoptime = str(max(df_input['starttime'])).replace(\" \", \"T\").replace(\".000\", \"Z\")\n",
    "    child_availability = child_starttime + \"/\" + child_stoptime\n",
    "    \n",
    "    child_element = {\n",
    "            \"id\": child_id,\n",
    "\n",
    "            \"availability\": child_availability,\n",
    "\n",
    "            \"position\": {\n",
    "                \"epoch\": child_starttime,\n",
    "                \"cartographicDegrees\": czml_path(df, relative_elevation=True)\n",
    "            },\n",
    "\n",
    "            \"point\": {\n",
    "                \"color\": {\n",
    "                    \"rgba\": [255, 255, 255, 255]\n",
    "                },\n",
    "                \"outlineColor\": {\n",
    "                    \"rgba\": [0,173,253, 255]\n",
    "                },\n",
    "                \"outlineWidth\":6,\n",
    "                \"pixelSize\":8,\n",
    "                \"heightReference\" : \"RELATIVE_TO_GROUND\"\n",
    "            }   \n",
    "        }\n",
    "\n",
    "    czml_output.append(child_element)\n",
    "    \n",
    "    return czml_output"
   ]
  },
  {
   "cell_type": "code",
   "execution_count": 53,
   "metadata": {
    "collapsed": false
   },
   "outputs": [],
   "source": [
    "czml_output_path = moving_point_with_path(df, path_type=\"outline\")\n",
    "with open('/Users/Will/node_modules/Cesium-1.33/Apps/Data/woodstock.czml', 'w') as outfile:\n",
    "    json.dump(czml_output_path, outfile)"
   ]
  },
  {
   "cell_type": "code",
   "execution_count": null,
   "metadata": {
    "collapsed": true
   },
   "outputs": [],
   "source": []
  },
  {
   "cell_type": "code",
   "execution_count": null,
   "metadata": {
    "collapsed": true
   },
   "outputs": [],
   "source": []
  },
  {
   "cell_type": "code",
   "execution_count": null,
   "metadata": {
    "collapsed": true
   },
   "outputs": [],
   "source": []
  },
  {
   "cell_type": "markdown",
   "metadata": {},
   "source": [
    "### Generate CZML Point"
   ]
  },
  {
   "cell_type": "code",
   "execution_count": 140,
   "metadata": {
    "collapsed": true
   },
   "outputs": [],
   "source": [
    "def moving_point(df_input, time_mult = 100):\n",
    "    \n",
    "    czml_output = []\n",
    "\n",
    "    # Required global variables\n",
    "    global_id = \"document\"\n",
    "    global_name = \"Visualizing GPX data from Strava\"\n",
    "    global_version = \"1.0\"\n",
    "\n",
    "    # Optional global variables\n",
    "    global_author = \"Will Geary\"\n",
    "    global_starttime = str(min(df_input['starttime'])).replace(\" \", \"T\").replace(\".000\", \"Z\")\n",
    "    global_stoptime = str(max(df_input['stoptime'])).replace(\" \", \"T\").replace(\".000\", \"Z\")\n",
    "    global_availability = global_starttime + \"/\" + global_stoptime    \n",
    "    \n",
    "    # Create first element with global variables\n",
    "    global_element = {\n",
    "        \"id\" : global_id,\n",
    "        \"name\" : global_name,\n",
    "        \"version\" : global_version,\n",
    "        \"author\": global_author,\n",
    "        \"clock\": {\n",
    "            \"interval\": global_availability,\n",
    "            \"currentTime\": global_starttime,\n",
    "            \"multiplier\": time_mult\n",
    "        }\n",
    "    }\n",
    "    \n",
    "    # Add first element to output\n",
    "    czml_output.append(global_element)\n",
    "\n",
    "    # Child variable\n",
    "    child_id = \"Point\"\n",
    "    child_starttime = str(min(df_input['starttime'])).replace(\" \", \"T\").replace(\".000\", \"Z\")\n",
    "    child_stoptime = str(max(df_input['starttime'])).replace(\" \", \"T\").replace(\".000\", \"Z\")\n",
    "    child_availability = child_starttime + \"/\" + child_stoptime\n",
    "    \n",
    "    child_element = {\n",
    "            \"id\": child_id,\n",
    "\n",
    "            \"availability\": child_availability,\n",
    "\n",
    "            \"position\": {\n",
    "                \"epoch\": child_starttime,\n",
    "                \"cartographicDegrees\": czml_path\n",
    "            },\n",
    "\n",
    "            \"point\": {\n",
    "                \"color\": {\n",
    "                    \"rgba\": [255, 255, 255, 200]\n",
    "                },\n",
    "                \"outlineColor\": {\n",
    "                    \"rgba\": [255, 0, 0, 200]\n",
    "                },\n",
    "                \"outlineWidth\":8,\n",
    "                \"pixelSize\":10,\n",
    "                \"heightReference\" : \"RELATIVE_TO_GROUND\"\n",
    "            }   \n",
    "        }\n",
    "\n",
    "    czml_output.append(child_element)\n",
    "    \n",
    "    return czml_output"
   ]
  },
  {
   "cell_type": "code",
   "execution_count": 141,
   "metadata": {
    "collapsed": false
   },
   "outputs": [],
   "source": [
    "czml_output = moving_point(df)"
   ]
  },
  {
   "cell_type": "code",
   "execution_count": 142,
   "metadata": {
    "collapsed": false
   },
   "outputs": [],
   "source": [
    "with open('/Users/Will/node_modules/Cesium-1.33/Apps/Data/woodstock.czml', 'w') as outfile:\n",
    "    json.dump(czml_output, outfile)"
   ]
  },
  {
   "cell_type": "markdown",
   "metadata": {},
   "source": [
    "# Animate Path"
   ]
  },
  {
   "cell_type": "code",
   "execution_count": 145,
   "metadata": {
    "collapsed": true
   },
   "outputs": [],
   "source": [
    "def moving_path(df_input, time_mult = 100):\n",
    "    \n",
    "    czml_output = []\n",
    "\n",
    "    # Required global variables\n",
    "    global_id = \"document\"\n",
    "    global_name = \"Visualizing GPX data from Strava\"\n",
    "    global_version = \"1.0\"\n",
    "\n",
    "    # Optional global variables\n",
    "    global_author = \"Will Geary\"\n",
    "    global_starttime = str(min(df_input['starttime'])).replace(\" \", \"T\").replace(\".000\", \"Z\")\n",
    "    global_stoptime = str(max(df_input['stoptime'])).replace(\" \", \"T\").replace(\".000\", \"Z\")\n",
    "    global_availability = global_starttime + \"/\" + global_stoptime    \n",
    "    \n",
    "    # Create first element with global variables\n",
    "    global_element = {\n",
    "        \"id\" : global_id,\n",
    "        \"name\" : global_name,\n",
    "        \"version\" : global_version,\n",
    "        \"author\": global_author,\n",
    "        \"clock\": {\n",
    "            \"interval\": global_availability,\n",
    "            \"currentTime\": global_starttime,\n",
    "            \"multiplier\": time_mult\n",
    "        }\n",
    "    }\n",
    "    \n",
    "    # Add first element to output\n",
    "    czml_output.append(global_element)\n",
    "\n",
    "    # Child variable\n",
    "    child_id = \"path\"\n",
    "    child_starttime = str(min(df_input['starttime'])).replace(\" \", \"T\").replace(\".000\", \"Z\")\n",
    "    child_stoptime = str(max(df_input['starttime'])).replace(\" \", \"T\").replace(\".000\", \"Z\")\n",
    "    child_availability = child_starttime + \"/\" + child_stoptime\n",
    "    \n",
    "    child_element = {\n",
    "            \"id\": child_id,\n",
    "\n",
    "            \"availability\": child_availability,\n",
    "\n",
    "            \"position\": {\n",
    "                \"epoch\": child_starttime,\n",
    "                \"cartographicDegrees\": czml_path\n",
    "            },\n",
    "\n",
    "            \"path\" : {\n",
    "                \"material\" : {\n",
    "                    \"polylineOutline\" : {\n",
    "                        \"color\" : {\n",
    "                            \"rgba\" : [255, 0, 255, 255]\n",
    "                        },\n",
    "                        \"outlineColor\" : {\n",
    "                            \"rgba\" : [0, 255, 255, 255]\n",
    "                        },\n",
    "                        \"outlineWidth\" : 5\n",
    "                    }\n",
    "                },\n",
    "                \"width\" : 8,\n",
    "                \"leadTime\" : 10,\n",
    "                \"trailTime\" : 100000,\n",
    "                \"resolution\" : 5\n",
    "            }\n",
    "        }\n",
    "\n",
    "    czml_output.append(child_element)\n",
    "    \n",
    "    \n",
    "    \n",
    "    # Child variable\n",
    "    child_id = \"Point\"\n",
    "    child_starttime = str(min(df_input['starttime'])).replace(\" \", \"T\").replace(\".000\", \"Z\")\n",
    "    child_stoptime = str(max(df_input['starttime'])).replace(\" \", \"T\").replace(\".000\", \"Z\")\n",
    "    child_availability = child_starttime + \"/\" + child_stoptime\n",
    "    \n",
    "    child_element = {\n",
    "            \"id\": child_id,\n",
    "\n",
    "            \"availability\": child_availability,\n",
    "\n",
    "            \"position\": {\n",
    "                \"epoch\": child_starttime,\n",
    "                \"cartographicDegrees\": czml_path\n",
    "            },\n",
    "\n",
    "            \"point\": {\n",
    "                \"color\": {\n",
    "                    \"rgba\": [255, 255, 255, 255]\n",
    "                },\n",
    "                \"outlineColor\": {\n",
    "                    \"rgba\": [255, 0, 0, 255]\n",
    "                },\n",
    "                \"outlineWidth\":8,\n",
    "                \"pixelSize\":10,\n",
    "                \"heightReference\" : \"RELATIVE_TO_GROUND\"\n",
    "            }   \n",
    "        }\n",
    "\n",
    "    czml_output.append(child_element)\n",
    "    \n",
    "    return czml_output"
   ]
  },
  {
   "cell_type": "code",
   "execution_count": 146,
   "metadata": {
    "collapsed": true
   },
   "outputs": [],
   "source": [
    "czml_output_path = moving_path(df)\n",
    "with open('/Users/Will/node_modules/Cesium-1.33/Apps/Data/woodstock.czml', 'w') as outfile:\n",
    "    json.dump(czml_output_path, outfile)"
   ]
  },
  {
   "cell_type": "code",
   "execution_count": null,
   "metadata": {
    "collapsed": true
   },
   "outputs": [],
   "source": []
  }
 ],
 "metadata": {
  "anaconda-cloud": {},
  "kernelspec": {
   "display_name": "Python [Root]",
   "language": "python",
   "name": "Python [Root]"
  },
  "language_info": {
   "codemirror_mode": {
    "name": "ipython",
    "version": 2
   },
   "file_extension": ".py",
   "mimetype": "text/x-python",
   "name": "python",
   "nbconvert_exporter": "python",
   "pygments_lexer": "ipython2",
   "version": "2.7.12"
  }
 },
 "nbformat": 4,
 "nbformat_minor": 0
}
